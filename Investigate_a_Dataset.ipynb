{
 "cells": [
  {
   "cell_type": "markdown",
   "metadata": {},
   "source": [
    "\n",
    "# Project: Investigate The Movie Database\n",
    "\n",
    "## Table of Contents\n",
    "<ul>\n",
    "<li><a href=\"#intro\">Introduction</a></li>\n",
    "<li><a href=\"#wrangling\">Data Wrangling</a></li>\n",
    "<li><a href=\"#eda\">Exploratory Data Analysis</a></li>\n",
    "<li><a href=\"#conclusions\">Conclusions</a></li>\n",
    "</ul>"
   ]
  },
  {
   "cell_type": "markdown",
   "metadata": {},
   "source": [
    "<a id='intro'></a>\n",
    "## Introduction\n",
    "\n",
    "In this project I am going to investigate and analyze The Movie Database and communicate my findings. This Dataset includes data of 10,000 films such as rating, cast, genres, budget, revenues, etc. This data is provided by Kaggle and collected from The Movie Database (TMDb) which is a popular user editable database for movies and TV shows.\n",
    "\n",
    "Questions to be answered:\n",
    "\n",
    "1 - What is the distribution of movies runtime?\n",
    "\n",
    "2 - What is the longest, shortest and the average runtime of all movies?\n",
    "\n",
    "3 - How movies runtime changes over years?\n",
    "\n",
    "4 - What is the distibution of directors based on number of directed movies?\n",
    "\n",
    "5 - Which director has appeared the most?\n",
    "\n",
    "6 - What are the most popular genres? \n",
    "\n",
    "7 - Which months have seen the maximum releases?"
   ]
  },
  {
   "cell_type": "code",
   "execution_count": 1,
   "metadata": {},
   "outputs": [],
   "source": [
    "import pandas as pd\n",
    "import numpy as np\n",
    "import csv\n",
    "import matplotlib.pyplot as plt\n",
    "from datetime import datetime as dt\n",
    "% matplotlib inline"
   ]
  },
  {
   "cell_type": "markdown",
   "metadata": {},
   "source": [
    "<a id='wrangling'></a>\n",
    "## Data Wrangling\n",
    "\n",
    "### General Properties"
   ]
  },
  {
   "cell_type": "code",
   "execution_count": 20,
   "metadata": {
    "scrolled": true
   },
   "outputs": [
    {
     "name": "stdout",
     "output_type": "stream",
     "text": [
      "       id    imdb_id  popularity     budget     revenue      original_title  \\\n",
      "0  135397  tt0369610   32.985763  150000000  1513528810      Jurassic World   \n",
      "1   76341  tt1392190   28.419936  150000000   378436354  Mad Max: Fury Road   \n",
      "2  262500  tt2908446   13.112507  110000000   295238201           Insurgent   \n",
      "\n",
      "                                                cast  \\\n",
      "0  Chris Pratt|Bryce Dallas Howard|Irrfan Khan|Vi...   \n",
      "1  Tom Hardy|Charlize Theron|Hugh Keays-Byrne|Nic...   \n",
      "2  Shailene Woodley|Theo James|Kate Winslet|Ansel...   \n",
      "\n",
      "                                         homepage          director  \\\n",
      "0                   http://www.jurassicworld.com/   Colin Trevorrow   \n",
      "1                     http://www.madmaxmovie.com/     George Miller   \n",
      "2  http://www.thedivergentseries.movie/#insurgent  Robert Schwentke   \n",
      "\n",
      "                      tagline      ...       \\\n",
      "0           The park is open.      ...        \n",
      "1          What a Lovely Day.      ...        \n",
      "2  One Choice Can Destroy You      ...        \n",
      "\n",
      "                                            overview runtime  \\\n",
      "0  Twenty-two years after the events of Jurassic ...     124   \n",
      "1  An apocalyptic story set in the furthest reach...     120   \n",
      "2  Beatrice Prior must confront her inner demons ...     119   \n",
      "\n",
      "                                      genres  \\\n",
      "0  Action|Adventure|Science Fiction|Thriller   \n",
      "1  Action|Adventure|Science Fiction|Thriller   \n",
      "2         Adventure|Science Fiction|Thriller   \n",
      "\n",
      "                                production_companies release_date vote_count  \\\n",
      "0  Universal Studios|Amblin Entertainment|Legenda...       6/9/15       5562   \n",
      "1  Village Roadshow Pictures|Kennedy Miller Produ...      5/13/15       6185   \n",
      "2  Summit Entertainment|Mandeville Films|Red Wago...      3/18/15       2480   \n",
      "\n",
      "   vote_average  release_year    budget_adj   revenue_adj  \n",
      "0           6.5          2015  1.379999e+08  1.392446e+09  \n",
      "1           7.1          2015  1.379999e+08  3.481613e+08  \n",
      "2           6.3          2015  1.012000e+08  2.716190e+08  \n",
      "\n",
      "[3 rows x 21 columns]\n"
     ]
    }
   ],
   "source": [
    "dat=pd.read_csv('tmdb-movies.csv')  #reading data from the CSV file\n",
    "\n",
    "print(dat.head(3)) # printing the first 3 rows with the header\n"
   ]
  },
  {
   "cell_type": "code",
   "execution_count": 3,
   "metadata": {},
   "outputs": [
    {
     "data": {
      "text/plain": [
       "(10866, 21)"
      ]
     },
     "execution_count": 3,
     "metadata": {},
     "output_type": "execute_result"
    }
   ],
   "source": [
    "dat.shape # priting the number of rows and columns"
   ]
  },
  {
   "cell_type": "code",
   "execution_count": 4,
   "metadata": {},
   "outputs": [
    {
     "data": {
      "text/plain": [
       "id                        int64\n",
       "imdb_id                  object\n",
       "popularity              float64\n",
       "budget                    int64\n",
       "revenue                   int64\n",
       "original_title           object\n",
       "cast                     object\n",
       "homepage                 object\n",
       "director                 object\n",
       "tagline                  object\n",
       "keywords                 object\n",
       "overview                 object\n",
       "runtime                   int64\n",
       "genres                   object\n",
       "production_companies     object\n",
       "release_date             object\n",
       "vote_count                int64\n",
       "vote_average            float64\n",
       "release_year              int64\n",
       "budget_adj              float64\n",
       "revenue_adj             float64\n",
       "dtype: object"
      ]
     },
     "execution_count": 4,
     "metadata": {},
     "output_type": "execute_result"
    }
   ],
   "source": [
    "dat.dtypes # printing the data type of each attribute"
   ]
  },
  {
   "cell_type": "markdown",
   "metadata": {},
   "source": [
    "### Data Cleaning \n",
    "\n",
    "In this step I will clean the dataset by removing the columns that I do not need in the analysis which are:\n",
    "[id, imdb_id, popularity, budget, original_title, homepage, director, tagline, keywords, overview, production_companies, vote_count, vote_average, release_year, budget_adj, revenue_adj]. Moreover, I will convert the release_date into DateTime format and remove any duplicates, missing , and zero values."
   ]
  },
  {
   "cell_type": "code",
   "execution_count": 21,
   "metadata": {},
   "outputs": [
    {
     "name": "stdout",
     "output_type": "stream",
     "text": [
      "<class 'pandas.core.frame.DataFrame'>\n",
      "RangeIndex: 10866 entries, 0 to 10865\n",
      "Data columns (total 6 columns):\n",
      "popularity      10866 non-null float64\n",
      "director        10822 non-null object\n",
      "runtime         10866 non-null int64\n",
      "genres          10843 non-null object\n",
      "release_date    10866 non-null object\n",
      "release_year    10866 non-null int64\n",
      "dtypes: float64(1), int64(2), object(3)\n",
      "memory usage: 509.4+ KB\n"
     ]
    }
   ],
   "source": [
    "#deleting the columns from the dataset\n",
    "dat.drop(['id', 'imdb_id','budget','revenue','original_title' , 'cast', 'homepage', 'tagline', 'keywords', 'overview', 'production_companies', 'vote_count', 'vote_average','budget_adj', 'revenue_adj'], axis = 1, inplace = True)\n",
    "\n",
    "#preview the new dataset\n",
    "dat.info()"
   ]
  },
  {
   "cell_type": "code",
   "execution_count": 22,
   "metadata": {},
   "outputs": [
    {
     "name": "stdout",
     "output_type": "stream",
     "text": [
      "<class 'pandas.core.frame.DataFrame'>\n",
      "RangeIndex: 10866 entries, 0 to 10865\n",
      "Data columns (total 6 columns):\n",
      "popularity      10866 non-null float64\n",
      "director        10822 non-null object\n",
      "runtime         10866 non-null int64\n",
      "genres          10843 non-null object\n",
      "release_date    10866 non-null datetime64[ns]\n",
      "release_year    10866 non-null int64\n",
      "dtypes: datetime64[ns](1), float64(1), int64(2), object(2)\n",
      "memory usage: 509.4+ KB\n"
     ]
    }
   ],
   "source": [
    "dat['release_date']= pd.to_datetime(dat['release_date']) #convert the release_date into DateTime format\n",
    "dat.info() #preview the type after conversion"
   ]
  },
  {
   "cell_type": "code",
   "execution_count": 7,
   "metadata": {},
   "outputs": [
    {
     "data": {
      "text/plain": [
       "(10865, 6)"
      ]
     },
     "execution_count": 7,
     "metadata": {},
     "output_type": "execute_result"
    }
   ],
   "source": [
    "dat.drop_duplicates(inplace = True) #removing duplicates\n",
    "dat.shape #preview number of rows after deleting duplicates "
   ]
  },
  {
   "cell_type": "code",
   "execution_count": 8,
   "metadata": {},
   "outputs": [
    {
     "data": {
      "text/plain": [
       "(10800, 6)"
      ]
     },
     "execution_count": 8,
     "metadata": {},
     "output_type": "execute_result"
    }
   ],
   "source": [
    "dat.dropna(inplace=True) #removing missing values\n",
    "dat.shape #preview number of rows after deleting missing values "
   ]
  },
  {
   "cell_type": "code",
   "execution_count": 9,
   "metadata": {},
   "outputs": [
    {
     "data": {
      "text/plain": [
       "(10772, 6)"
      ]
     },
     "execution_count": 9,
     "metadata": {},
     "output_type": "execute_result"
    }
   ],
   "source": [
    "dat.isin([0]).sum() #checking for zero values\n",
    "dat.drop(dat[ dat['runtime'] == 0 ].index, axis=0 , inplace = True) #removing zero vlaues from runtime\n",
    "dat.isin([0]).sum()\n",
    "dat.shape #preview number of rows after deleting zero values "
   ]
  },
  {
   "cell_type": "markdown",
   "metadata": {},
   "source": [
    "<a id='eda'></a>\n",
    "## Exploratory Data Analysis\n",
    "\n",
    "\n",
    "### Research Question 1 - What is the distribution of movies runtime?"
   ]
  },
  {
   "cell_type": "code",
   "execution_count": 43,
   "metadata": {},
   "outputs": [
    {
     "data": {
      "image/png": "[encoded data removed]",
      "text/plain": [
       "<matplotlib.figure.Figure at 0x7ff26b5d1780>"
      ]
     },
     "metadata": {
      "needs_background": "light"
     },
     "output_type": "display_data"
    }
   ],
   "source": [
    "#plotting a histogram of runtime of movies\n",
    "\n",
    "#giving the figure size(width, height)\n",
    "plt.figure(figsize=(12,6))\n",
    "\n",
    "#On x-axis \n",
    "plt.xlabel('Runtime of the Movies in mins')\n",
    "#On y-axis \n",
    "plt.ylabel('Nos.of Movies in the Dataset')\n",
    "#Name of the graph\n",
    "plt.title('Runtime of all the movies')\n",
    "\n",
    "#giving a histogram plot\n",
    "plt.hist(dat['runtime'], rwidth = 0.5, bins =10,color='g')\n",
    "#displays the plot\n",
    "plt.show()"
   ]
  },
  {
   "cell_type": "markdown",
   "metadata": {},
   "source": [
    "### Research Question 2 - What is the longest, shortest and the average runtime of all movies? "
   ]
  },
  {
   "cell_type": "markdown",
   "metadata": {},
   "source": [
    "The longest runtime is 15 hours"
   ]
  },
  {
   "cell_type": "code",
   "execution_count": 11,
   "metadata": {},
   "outputs": [
    {
     "name": "stdout",
     "output_type": "stream",
     "text": [
      "900.00\n"
     ]
    }
   ],
   "source": [
    "print(\"%.2f\" % dat['runtime'].max()) #calculating the longest runtime"
   ]
  },
  {
   "cell_type": "markdown",
   "metadata": {},
   "source": [
    "The shortest runtime is 2 minutes"
   ]
  },
  {
   "cell_type": "code",
   "execution_count": 12,
   "metadata": {},
   "outputs": [
    {
     "name": "stdout",
     "output_type": "stream",
     "text": [
      "2.00\n"
     ]
    }
   ],
   "source": [
    "print(\"%.2f\" % dat['runtime'].min()) #calculating the shortest runtime"
   ]
  },
  {
   "cell_type": "markdown",
   "metadata": {},
   "source": [
    "The average runtime is 1 hour and 42 minutes"
   ]
  },
  {
   "cell_type": "code",
   "execution_count": 13,
   "metadata": {},
   "outputs": [
    {
     "name": "stdout",
     "output_type": "stream",
     "text": [
      "102.46\n"
     ]
    }
   ],
   "source": [
    "print(\"%.2f\" % dat['runtime'].mean()) #calculating the average runtime"
   ]
  },
  {
   "cell_type": "markdown",
   "metadata": {},
   "source": [
    "### Research Question 3  - What is the distibution of directors based on number of directed movies?\n"
   ]
  },
  {
   "cell_type": "code",
   "execution_count": 42,
   "metadata": {},
   "outputs": [
    {
     "data": {
      "image/png": "[encoded data removed]",
      "text/plain": [
       "<matplotlib.figure.Figure at 0x7ff2640f8b70>"
      ]
     },
     "metadata": {
      "needs_background": "light"
     },
     "output_type": "display_data"
    }
   ],
   "source": [
    "dr = dat['director'].value_counts() #calculating the appearance of each director\n",
    "dr=dr[0:20]\n",
    "dr.plot(kind='bar',figsize=(12,6));\n",
    "plt.title('Top Directors in term of directed movies',)\n",
    "plt.xlabel('Director')\n",
    "plt.ylabel('Movie count');"
   ]
  },
  {
   "cell_type": "markdown",
   "metadata": {},
   "source": [
    "### Research Question 4  - Who is the director who directed most movies is?"
   ]
  },
  {
   "cell_type": "markdown",
   "metadata": {},
   "source": [
    "The director who directed most movies is:"
   ]
  },
  {
   "cell_type": "code",
   "execution_count": 15,
   "metadata": {},
   "outputs": [
    {
     "data": {
      "text/plain": [
       "'Woody Allen'"
      ]
     },
     "execution_count": 15,
     "metadata": {},
     "output_type": "execute_result"
    }
   ],
   "source": [
    "dr.idxmax() #find the director with max appearance"
   ]
  },
  {
   "cell_type": "markdown",
   "metadata": {},
   "source": [
    "### Research Question 5  - What are the most popular genres? \n"
   ]
  },
  {
   "cell_type": "markdown",
   "metadata": {},
   "source": [
    "The genres of the movies with highest populairty are:"
   ]
  },
  {
   "cell_type": "code",
   "execution_count": 16,
   "metadata": {},
   "outputs": [
    {
     "data": {
      "text/plain": [
       "Text(0,0.5,'Popularity')"
      ]
     },
     "execution_count": 16,
     "metadata": {},
     "output_type": "execute_result"
    },
    {
     "data": {
      "image/png": "[encoded data removed]",
      "text/plain": [
       "<matplotlib.figure.Figure at 0x7ff2657a50f0>"
      ]
     },
     "metadata": {
      "needs_background": "light"
     },
     "output_type": "display_data"
    }
   ],
   "source": [
    "gen=dat\n",
    "gen['genres'] = dat['genres'].apply(lambda x: x.split(\"|\")[0]) #dealing with the multiple values in the genres column\n",
    "gen=gen.groupby('genres')['popularity'].mean() #calcualting the avergae popularity for each genre\n",
    "gen.sort_values(ascending=False).plot(x='genres',y='popularity',kind='bar',figsize=(12,6)) #plotting the results\n",
    "plt.title('Average popularity of each genre')\n",
    "plt.xlabel('Genres')\n",
    "plt.ylabel('Popularity')\n"
   ]
  },
  {
   "cell_type": "markdown",
   "metadata": {},
   "source": [
    "The graph shows that the Adventure is the most popular genre during the period from 1966 to 2015"
   ]
  },
  {
   "cell_type": "markdown",
   "metadata": {},
   "source": [
    "### Research Question 6 - Which months have seen the maximum releases?"
   ]
  },
  {
   "cell_type": "code",
   "execution_count": 17,
   "metadata": {},
   "outputs": [
    {
     "data": {
      "image/png": "[encoded data removed]",
      "text/plain": [
       "<matplotlib.figure.Figure at 0x7ff2658875c0>"
      ]
     },
     "metadata": {
      "needs_background": "light"
     },
     "output_type": "display_data"
    }
   ],
   "source": [
    "dat['release_month']=dat['release_date'].dt.month #creating a new column for the release month and extract values from the release date\n",
    "rels_month= dat.release_month.value_counts().sort_index() #counting the releases for each month\n",
    "dat2=pd.DataFrame() #creating another table\n",
    "dat2['Months']=['Jan','Feb','Mar','Apr','May','Jun','Jul','Aug','Sep','Oct','Nov','Dec'] #adding months\n",
    "dat2['Number of movies']=rels_month.get_values() #adding count columns and import the  values from the dataset\n",
    "dat2.plot(x='Months',y='Number of movies',color='green',figsize=(12,6)) #plotting results\n",
    "plt.title('Number of released movies per month');\n",
    "plt.ylabel('Number of released movies');\n",
    "plt.xlabel('Month Number');\n",
    "plt.xticks(np.arange(len(dat2.index)), dat2.index)\n",
    "plt.show()"
   ]
  },
  {
   "cell_type": "markdown",
   "metadata": {},
   "source": [
    "I can see from the graph that Augest has the highest number of released movies throughout the years 1966-2015."
   ]
  },
  {
   "cell_type": "markdown",
   "metadata": {},
   "source": [
    "<a id='conclusions'></a>\n",
    "## Conclusions\n",
    "\n",
    "after observing the results of the investigation I conclude the following:\n",
    "\n",
    "- Movies runtime:\n",
    "  - The longest runtime is 11 hours and 45 minutes\n",
    "  - The shortest runtime is 15 minutes\n",
    "  - The average runtime is 1 hours and 47 minutes\n",
    "\n",
    "- The director who directed most movies in the dataset is Woody Allen.\n",
    "\n",
    "- The most popular movie genre is the Adventure. \n",
    "\n",
    "- The month with highest number of movie releases is Augest.\n",
    "\n",
    "## limitations\n",
    "The Dataset includes many columns which makes it harder to understand and specify needed ones and there is no clear description that illustartes their meaning and facilitates differentiation between them, for example the difference between revenue and revenue_adj columns was unclear to me. \n",
    "also, dealing with multivalued cells was challenging.\n",
    "\n",
    "## Submitting your Project \n",
    "\n",
    "> Before you submit your project, you need to create a .html or .pdf version of this notebook in the workspace here. To do that, run the code cell below. If it worked correctly, you should get a return code of 0, and you should see the generated .html file in the workspace directory (click on the orange Jupyter icon in the upper left).\n",
    "\n",
    "> Alternatively, you can download this report as .html via the **File** > **Download as** submenu, and then manually upload it into the workspace directory by clicking on the orange Jupyter icon in the upper left, then using the Upload button.\n",
    "\n",
    "> Once you've done this, you can submit your project by clicking on the \"Submit Project\" button in the lower right here. This will create and submit a zip file with this .ipynb doc and the .html or .pdf version you created. Congratulations!"
   ]
  },
  {
   "cell_type": "code",
   "execution_count": 19,
   "metadata": {},
   "outputs": [
    {
     "data": {
      "text/plain": [
       "0"
      ]
     },
     "execution_count": 19,
     "metadata": {},
     "output_type": "execute_result"
    }
   ],
   "source": [
    "from subprocess import call\n",
    "call(['python', '-m', 'nbconvert', 'Investigate_a_Dataset.ipynb'])"
   ]
  }
 ],
 "metadata": {
  "kernelspec": {
   "display_name": "Python 3",
   "language": "python",
   "name": "python3"
  },
  "language_info": {
   "codemirror_mode": {
    "name": "ipython",
    "version": 3
   },
   "file_extension": ".py",
   "mimetype": "text/x-python",
   "name": "python",
   "nbconvert_exporter": "python",
   "pygments_lexer": "ipython3",
   "version": "3.6.3"
  }
 },
 "nbformat": 4,
 "nbformat_minor": 2
}
